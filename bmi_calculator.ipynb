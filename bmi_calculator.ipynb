{
  "nbformat": 4,
  "nbformat_minor": 0,
  "metadata": {
    "colab": {
      "provenance": []
    },
    "kernelspec": {
      "name": "python3",
      "display_name": "Python 3"
    },
    "language_info": {
      "name": "python"
    }
  },
  "cells": [
    {
      "cell_type": "code",
      "source": [
        "\n",
        "def cal_bmi(height, weight):\n",
        "  bmi=weight/(height**2)\n",
        "  return bmi\n",
        "def classify_bmi(bmi):\n",
        "  if bmi <= 18.5:\n",
        "    return \"Underweight\"\n",
        "  elif 18.5 <= bmi < 24.9 :\n",
        "     return \"Normal range\"\n",
        "  elif 25 <= bmi < 29.9 :\n",
        "   return \"Overweight\"\n",
        "  elif 30 <= bmi < 39.9 :\n",
        "    return \"Obesity\"\n",
        "  else :\n",
        "    return \"OverObesity\"\n",
        "height=float(input(\"Enter height in meters:\"))\n",
        "weight=float(input(\"Enter weight in kg:\"))\n",
        "bmi=cal_bmi(height, weight)\n",
        "bmi_status=classify_bmi(bmi)\n",
        "print(f\"Person's BMI is: {bmi:.2f}.\")\n",
        "print(f\"Your BMI status is: {bmi_status}\")\n"
      ],
      "metadata": {
        "colab": {
          "base_uri": "https://localhost:8080/"
        },
        "id": "VWb7Sx2WeNju",
        "outputId": "8b7b141c-8be3-4531-aa53-ccede1038073"
      },
      "execution_count": 57,
      "outputs": [
        {
          "output_type": "stream",
          "name": "stdout",
          "text": [
            "Enter height in meters:5\n",
            "Enter weight in kg:56\n",
            "Underweight\n",
            "Person's BMI is: 2.24.\n",
            "Your BMI status is: None\n"
          ]
        }
      ]
    }
  ]
}